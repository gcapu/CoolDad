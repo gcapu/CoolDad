{
 "cells": [
  {
   "cell_type": "code",
   "execution_count": 1,
   "metadata": {},
   "outputs": [],
   "source": [
    "import pandas as pd\n",
    "import csv\n",
    "import matplotlib.pyplot as plt\n",
    "import kaggle as kg\n",
    "import pandas as pd\n",
    "import csv\n",
    "from IPython.display import display"
   ]
  },
  {
   "cell_type": "code",
   "execution_count": 2,
   "metadata": {},
   "outputs": [],
   "source": [
    "kg.api.authenticate()\n",
    "kg.api.dataset_download_files(dataset=\"therohk/urban-dictionary-words-dataset\", path='urban_dict.zip', unzip=True)"
   ]
  },
  {
   "cell_type": "code",
   "execution_count": 3,
   "metadata": {},
   "outputs": [],
   "source": [
    "# Some rows contain commas in the word name and they are not quoted, so we need to process them carefully\n",
    "with open('urban_dict.zip/urbandict-word-defs.csv', 'r') as csvfile:\n",
    "    lines = csvfile.readlines()\n",
    "    lines = list(csv.reader(lines, delimiter=',', quotechar='\"'))\n",
    "    for i, line in enumerate(lines):\n",
    "        if len(line) > 6:\n",
    "            lines[i] = [line[0]] +  [','.join(line[1:-4])] + line[-4:]"
   ]
  },
  {
   "cell_type": "code",
   "execution_count": 4,
   "metadata": {},
   "outputs": [
    {
     "data": {
      "text/html": [
       "<div>\n",
       "<style scoped>\n",
       "    .dataframe tbody tr th:only-of-type {\n",
       "        vertical-align: middle;\n",
       "    }\n",
       "\n",
       "    .dataframe tbody tr th {\n",
       "        vertical-align: top;\n",
       "    }\n",
       "\n",
       "    .dataframe thead th {\n",
       "        text-align: right;\n",
       "    }\n",
       "</style>\n",
       "<table border=\"1\" class=\"dataframe\">\n",
       "  <thead>\n",
       "    <tr style=\"text-align: right;\">\n",
       "      <th></th>\n",
       "      <th>word_id</th>\n",
       "      <th>word</th>\n",
       "      <th>up_votes</th>\n",
       "      <th>down_votes</th>\n",
       "      <th>author</th>\n",
       "      <th>definition</th>\n",
       "      <th>total_votes</th>\n",
       "      <th>up_ratio</th>\n",
       "    </tr>\n",
       "  </thead>\n",
       "  <tbody>\n",
       "    <tr>\n",
       "      <th>0</th>\n",
       "      <td>0000007</td>\n",
       "      <td>Janky</td>\n",
       "      <td>296</td>\n",
       "      <td>255</td>\n",
       "      <td>dc397b2f</td>\n",
       "      <td>Undesirable; less-than optimum.</td>\n",
       "      <td>551</td>\n",
       "      <td>0.537205</td>\n",
       "    </tr>\n",
       "    <tr>\n",
       "      <th>1</th>\n",
       "      <td>0000008</td>\n",
       "      <td>slumpin'</td>\n",
       "      <td>16</td>\n",
       "      <td>37</td>\n",
       "      <td>dc397b2f</td>\n",
       "      <td>low down and funky, but [knee deep] enough to ...</td>\n",
       "      <td>53</td>\n",
       "      <td>0.301887</td>\n",
       "    </tr>\n",
       "    <tr>\n",
       "      <th>2</th>\n",
       "      <td>0000009</td>\n",
       "      <td>yayeeyay</td>\n",
       "      <td>19</td>\n",
       "      <td>27</td>\n",
       "      <td>dc397b2f</td>\n",
       "      <td>affirmation; suggestion of encouragement, appr...</td>\n",
       "      <td>46</td>\n",
       "      <td>0.413043</td>\n",
       "    </tr>\n",
       "    <tr>\n",
       "      <th>3</th>\n",
       "      <td>0000012</td>\n",
       "      <td>hard-core</td>\n",
       "      <td>162</td>\n",
       "      <td>96</td>\n",
       "      <td>d1610749</td>\n",
       "      <td>anything out of our league that can be good or...</td>\n",
       "      <td>258</td>\n",
       "      <td>0.627907</td>\n",
       "    </tr>\n",
       "    <tr>\n",
       "      <th>4</th>\n",
       "      <td>0000013</td>\n",
       "      <td>brutal</td>\n",
       "      <td>12</td>\n",
       "      <td>45</td>\n",
       "      <td>40ece1ef</td>\n",
       "      <td>anything that makes you sweat</td>\n",
       "      <td>57</td>\n",
       "      <td>0.210526</td>\n",
       "    </tr>\n",
       "  </tbody>\n",
       "</table>\n",
       "</div>"
      ],
      "text/plain": [
       "   word_id       word  up_votes  down_votes    author  \\\n",
       "0  0000007      Janky       296         255  dc397b2f   \n",
       "1  0000008   slumpin'        16          37  dc397b2f   \n",
       "2  0000009   yayeeyay        19          27  dc397b2f   \n",
       "3  0000012  hard-core       162          96  d1610749   \n",
       "4  0000013     brutal        12          45  40ece1ef   \n",
       "\n",
       "                                          definition  total_votes  up_ratio  \n",
       "0                    Undesirable; less-than optimum.          551  0.537205  \n",
       "1  low down and funky, but [knee deep] enough to ...           53  0.301887  \n",
       "2  affirmation; suggestion of encouragement, appr...           46  0.413043  \n",
       "3  anything out of our league that can be good or...          258  0.627907  \n",
       "4                      anything that makes you sweat           57  0.210526  "
      ]
     },
     "metadata": {},
     "output_type": "display_data"
    },
    {
     "data": {
      "text/html": [
       "<div>\n",
       "<style scoped>\n",
       "    .dataframe tbody tr th:only-of-type {\n",
       "        vertical-align: middle;\n",
       "    }\n",
       "\n",
       "    .dataframe tbody tr th {\n",
       "        vertical-align: top;\n",
       "    }\n",
       "\n",
       "    .dataframe thead th {\n",
       "        text-align: right;\n",
       "    }\n",
       "</style>\n",
       "<table border=\"1\" class=\"dataframe\">\n",
       "  <thead>\n",
       "    <tr style=\"text-align: right;\">\n",
       "      <th></th>\n",
       "      <th>up_votes</th>\n",
       "      <th>down_votes</th>\n",
       "      <th>total_votes</th>\n",
       "      <th>up_ratio</th>\n",
       "    </tr>\n",
       "  </thead>\n",
       "  <tbody>\n",
       "    <tr>\n",
       "      <th>count</th>\n",
       "      <td>2.580925e+06</td>\n",
       "      <td>2.580925e+06</td>\n",
       "      <td>2.580925e+06</td>\n",
       "      <td>2.447616e+06</td>\n",
       "    </tr>\n",
       "    <tr>\n",
       "      <th>mean</th>\n",
       "      <td>6.518014e+01</td>\n",
       "      <td>4.210493e+01</td>\n",
       "      <td>1.072851e+02</td>\n",
       "      <td>6.000241e-01</td>\n",
       "    </tr>\n",
       "    <tr>\n",
       "      <th>std</th>\n",
       "      <td>5.632438e+02</td>\n",
       "      <td>2.817211e+02</td>\n",
       "      <td>8.080962e+02</td>\n",
       "      <td>2.808843e-01</td>\n",
       "    </tr>\n",
       "    <tr>\n",
       "      <th>min</th>\n",
       "      <td>0.000000e+00</td>\n",
       "      <td>0.000000e+00</td>\n",
       "      <td>0.000000e+00</td>\n",
       "      <td>0.000000e+00</td>\n",
       "    </tr>\n",
       "    <tr>\n",
       "      <th>25%</th>\n",
       "      <td>3.000000e+00</td>\n",
       "      <td>1.000000e+00</td>\n",
       "      <td>5.000000e+00</td>\n",
       "      <td>3.951473e-01</td>\n",
       "    </tr>\n",
       "    <tr>\n",
       "      <th>50%</th>\n",
       "      <td>8.000000e+00</td>\n",
       "      <td>6.000000e+00</td>\n",
       "      <td>1.600000e+01</td>\n",
       "      <td>6.315789e-01</td>\n",
       "    </tr>\n",
       "    <tr>\n",
       "      <th>75%</th>\n",
       "      <td>2.800000e+01</td>\n",
       "      <td>2.300000e+01</td>\n",
       "      <td>5.400000e+01</td>\n",
       "      <td>8.181818e-01</td>\n",
       "    </tr>\n",
       "    <tr>\n",
       "      <th>max</th>\n",
       "      <td>2.890020e+05</td>\n",
       "      <td>1.003770e+05</td>\n",
       "      <td>3.705830e+05</td>\n",
       "      <td>1.000000e+00</td>\n",
       "    </tr>\n",
       "  </tbody>\n",
       "</table>\n",
       "</div>"
      ],
      "text/plain": [
       "           up_votes    down_votes   total_votes      up_ratio\n",
       "count  2.580925e+06  2.580925e+06  2.580925e+06  2.447616e+06\n",
       "mean   6.518014e+01  4.210493e+01  1.072851e+02  6.000241e-01\n",
       "std    5.632438e+02  2.817211e+02  8.080962e+02  2.808843e-01\n",
       "min    0.000000e+00  0.000000e+00  0.000000e+00  0.000000e+00\n",
       "25%    3.000000e+00  1.000000e+00  5.000000e+00  3.951473e-01\n",
       "50%    8.000000e+00  6.000000e+00  1.600000e+01  6.315789e-01\n",
       "75%    2.800000e+01  2.300000e+01  5.400000e+01  8.181818e-01\n",
       "max    2.890020e+05  1.003770e+05  3.705830e+05  1.000000e+00"
      ]
     },
     "metadata": {},
     "output_type": "display_data"
    }
   ],
   "source": [
    "df = pd.DataFrame(lines[1:], columns=lines[0])\n",
    "# Setting correct data type on numeric columns, and correcting negative votes.\n",
    "numeric_cols = [\"up_votes\", \"down_votes\"]\n",
    "df[numeric_cols] = df[numeric_cols].apply(pd.to_numeric).apply(abs)\n",
    "# We may also be interested in these variables\n",
    "df['total_votes'] = df.up_votes + df.down_votes\n",
    "df['up_ratio'] = df.up_votes / df.total_votes\n",
    "display(df.head())\n",
    "display(df.describe())"
   ]
  },
  {
   "cell_type": "markdown",
   "metadata": {},
   "source": [
    "## Let's do some exploratory work\n",
    "First let's check the distribution of variables"
   ]
  },
  {
   "cell_type": "code",
   "execution_count": 5,
   "metadata": {},
   "outputs": [
    {
     "data": {
      "image/png": "[encoded data removed]",
      "text/plain": [
       "<Figure size 864x432 with 2 Axes>"
      ]
     },
     "metadata": {
      "needs_background": "light"
     },
     "output_type": "display_data"
    }
   ],
   "source": [
    "fig, axes = plt.subplots(1,2, figsize=(12,6))\n",
    "df.up_votes.hist(ax=axes[0], bins=100)\n",
    "axes[0].set_yscale('log')\n",
    "axes[0].set_ylabel('Up votes')\n",
    "axes[0].set_xlabel('Number of posts')\n",
    "axes[0].set_title('Distribution of up votes')\n",
    "df.down_votes.hist(ax=axes[1], bins=100)\n",
    "axes[1].set_yscale('log')\n",
    "axes[1].set_ylabel('Down votes')\n",
    "axes[1].set_xlabel('Number of posts')\n",
    "axes[1].set_title('Distribution of down votes')\n",
    "plt.show()"
   ]
  },
  {
   "cell_type": "markdown",
   "metadata": {},
   "source": [
    "Faith in humanity restored: there are more upvotes than downvotes. \n",
    "\n",
    "Haters aren't hating that much."
   ]
  },
  {
   "cell_type": "code",
   "execution_count": 6,
   "metadata": {},
   "outputs": [
    {
     "data": {
      "image/png": "[encoded data removed]",
      "text/plain": [
       "<Figure size 864x432 with 2 Axes>"
      ]
     },
     "metadata": {
      "needs_background": "light"
     },
     "output_type": "display_data"
    }
   ],
   "source": [
    "fig, axes = plt.subplots(1,2, figsize=(12,6))\n",
    "fig.suptitle('Up vote ratio (higher means liked more)', fontsize=16)\n",
    "\n",
    "df.up_ratio[(df.total_votes > 50) & (df.total_votes < 500)].hist(ax=axes[0], bins=50)\n",
    "axes[0].set_ylabel('Number of posts')\n",
    "axes[0].set_xlabel('up votes / total votes')\n",
    "axes[0].set_title('When between 50 and 500 votes')\n",
    "df.up_ratio[df.total_votes > 500].hist(ax=axes[1], bins=50)\n",
    "axes[1].set_ylabel('Number of posts')\n",
    "axes[1].set_xlabel('up votes / total votes')\n",
    "axes[1].set_title('When morethan 500 votes')\n",
    "plt.show()"
   ]
  },
  {
   "cell_type": "markdown",
   "metadata": {},
   "source": [
    "It seems that post that gather lots of votes are very likely to get lots of upvotes."
   ]
  },
  {
   "cell_type": "code",
   "execution_count": 7,
   "metadata": {},
   "outputs": [
    {
     "name": "stdout",
     "output_type": "stream",
     "text": [
      "Authors with the largest number of posts:\n"
     ]
    },
    {
     "data": {
      "text/plain": [
       "a6c97ba3    16970\n",
       "f668a9f4     1851\n",
       "703f2483     1645\n",
       "2438f900     1265\n",
       "19de25da     1177\n",
       "Name: author, dtype: int64"
      ]
     },
     "metadata": {},
     "output_type": "display_data"
    },
    {
     "name": "stdout",
     "output_type": "stream",
     "text": [
      "\n",
      "Stats on the post counts:\n"
     ]
    },
    {
     "data": {
      "text/plain": [
       "count    1.917941e+06\n",
       "mean     1.345675e+00\n",
       "std      1.304282e+01\n",
       "min      1.000000e+00\n",
       "25%      1.000000e+00\n",
       "50%      1.000000e+00\n",
       "75%      1.000000e+00\n",
       "max      1.697000e+04\n",
       "Name: author, dtype: float64"
      ]
     },
     "metadata": {},
     "output_type": "display_data"
    },
    {
     "data": {
      "image/png": "[encoded data removed]",
      "text/plain": [
       "<Figure size 576x288 with 1 Axes>"
      ]
     },
     "metadata": {
      "needs_background": "light"
     },
     "output_type": "display_data"
    }
   ],
   "source": [
    "# Displaying info on post counts.\n",
    "counts = df.author.value_counts()\n",
    "print('Authors with the largest number of posts:')\n",
    "display(counts.head())\n",
    "print('')\n",
    "print('Stats on the post counts:')\n",
    "display(counts.describe())\n",
    "fig, ax = plt.subplots(figsize=(8,4))\n",
    "counts[5:].hist(ax=ax, bins=200)\n",
    "ax.set_yscale('log')\n",
    "ax.set_ylabel('Authors with that many posts')\n",
    "ax.set_xlabel('Number of posts')\n",
    "ax.set_title('Distribution of post counts (excludes the top 5 posters)')\n",
    "plt.show()"
   ]
  },
  {
   "cell_type": "markdown",
   "metadata": {},
   "source": [
    "## Machine Learning model\n",
    "\n",
    "We first need to define how good the posts have to be to be considered in the ML model. Some models allow some weights that say how important is a particular sample. We could set the weights equal to the upvote ratio. But in addition, I think we should define the threshold at which we don't consider a case at all. \n",
    "\n",
    "Other questions we need to answer are:\n",
    "* Should we use only a single answer to each word?\n",
    "* Should we add the best answer for each word, even if it has poor reviews?\n",
    "* Minimum number of total votes required?"
   ]
  },
  {
   "cell_type": "code",
   "execution_count": 182,
   "metadata": {},
   "outputs": [
    {
     "data": {
      "text/html": [
       "<div>\n",
       "<style scoped>\n",
       "    .dataframe tbody tr th:only-of-type {\n",
       "        vertical-align: middle;\n",
       "    }\n",
       "\n",
       "    .dataframe tbody tr th {\n",
       "        vertical-align: top;\n",
       "    }\n",
       "\n",
       "    .dataframe thead th {\n",
       "        text-align: right;\n",
       "    }\n",
       "</style>\n",
       "<table border=\"1\" class=\"dataframe\">\n",
       "  <thead>\n",
       "    <tr style=\"text-align: right;\">\n",
       "      <th></th>\n",
       "      <th>no_min</th>\n",
       "      <th>5</th>\n",
       "      <th>10</th>\n",
       "      <th>20</th>\n",
       "      <th>50</th>\n",
       "      <th>100</th>\n",
       "    </tr>\n",
       "  </thead>\n",
       "  <tbody>\n",
       "    <tr>\n",
       "      <td>all</td>\n",
       "      <td>2580925</td>\n",
       "      <td>1544871</td>\n",
       "      <td>1137044</td>\n",
       "      <td>779955</td>\n",
       "      <td>414148</td>\n",
       "      <td>233342</td>\n",
       "    </tr>\n",
       "    <tr>\n",
       "      <td>word_id</td>\n",
       "      <td>2580925</td>\n",
       "      <td>1544871</td>\n",
       "      <td>1137044</td>\n",
       "      <td>779955</td>\n",
       "      <td>414148</td>\n",
       "      <td>233342</td>\n",
       "    </tr>\n",
       "    <tr>\n",
       "      <td>word</td>\n",
       "      <td>1743283</td>\n",
       "      <td>928184</td>\n",
       "      <td>643278</td>\n",
       "      <td>420454</td>\n",
       "      <td>209768</td>\n",
       "      <td>115441</td>\n",
       "    </tr>\n",
       "  </tbody>\n",
       "</table>\n",
       "</div>"
      ],
      "text/plain": [
       "          no_min        5       10      20      50     100\n",
       "all      2580925  1544871  1137044  779955  414148  233342\n",
       "word_id  2580925  1544871  1137044  779955  414148  233342\n",
       "word     1743283   928184   643278  420454  209768  115441"
      ]
     },
     "metadata": {},
     "output_type": "display_data"
    }
   ],
   "source": [
    "# let's first check how many unique words after we select a threshold of minimum up votes.\n",
    "min_votes = [5, 10, 20, 50, 100]\n",
    "columns = ['no_min'] + [str(i) for i in min_votes]\n",
    "unique_values = []\n",
    "unique_values.append([len(df)] + [len(df[df.up_votes > i]) for i in min_votes])\n",
    "unique_values.append([len(df.word_id.unique())] + [len(df[df.up_votes > i].word_id.unique()) for i in min_votes])\n",
    "unique_values.append([len(df.word.unique())] + [len(df[df.up_votes > i].word.unique()) for i in min_votes])\n",
    "display(pd.DataFrame(unique_values, columns=columns, index=['all', 'word_id', 'word']))"
   ]
  },
  {
   "cell_type": "markdown",
   "metadata": {},
   "source": [
    "It seems that `word_id` is unique for each entry, and that most words have a single definition.\n",
    "\n",
    "When we increase the threshold, the number of unique words falls considerably. It may be better to keep it to 5 or 10."
   ]
  },
  {
   "cell_type": "code",
   "execution_count": 183,
   "metadata": {},
   "outputs": [
    {
     "data": {
      "text/html": [
       "<div>\n",
       "<style scoped>\n",
       "    .dataframe tbody tr th:only-of-type {\n",
       "        vertical-align: middle;\n",
       "    }\n",
       "\n",
       "    .dataframe tbody tr th {\n",
       "        vertical-align: top;\n",
       "    }\n",
       "\n",
       "    .dataframe thead th {\n",
       "        text-align: right;\n",
       "    }\n",
       "</style>\n",
       "<table border=\"1\" class=\"dataframe\">\n",
       "  <thead>\n",
       "    <tr style=\"text-align: right;\">\n",
       "      <th></th>\n",
       "      <th>word</th>\n",
       "      <th>word_id</th>\n",
       "      <th>up_votes</th>\n",
       "      <th>down_votes</th>\n",
       "      <th>author</th>\n",
       "      <th>definition</th>\n",
       "      <th>total_votes</th>\n",
       "      <th>up_ratio</th>\n",
       "    </tr>\n",
       "  </thead>\n",
       "  <tbody>\n",
       "    <tr>\n",
       "      <td>4</td>\n",
       "      <td>)))</td>\n",
       "      <td>6054218</td>\n",
       "      <td>7</td>\n",
       "      <td>4</td>\n",
       "      <td>8a544a6c</td>\n",
       "      <td>uber wink. like a wink, but to the third power...</td>\n",
       "      <td>11</td>\n",
       "      <td>0.636364</td>\n",
       "    </tr>\n",
       "    <tr>\n",
       "      <td>5</td>\n",
       "      <td>l @(^.^)@ l</td>\n",
       "      <td>2420836</td>\n",
       "      <td>8</td>\n",
       "      <td>40</td>\n",
       "      <td>ef17dafc</td>\n",
       "      <td>rockin to something, listening to a really awe...</td>\n",
       "      <td>48</td>\n",
       "      <td>0.166667</td>\n",
       "    </tr>\n",
       "    <tr>\n",
       "      <td>6</td>\n",
       "      <td>!</td>\n",
       "      <td>1740131</td>\n",
       "      <td>12</td>\n",
       "      <td>13</td>\n",
       "      <td>82003752</td>\n",
       "      <td>Flip you off or inother words fuck off bitches</td>\n",
       "      <td>25</td>\n",
       "      <td>0.480000</td>\n",
       "    </tr>\n",
       "    <tr>\n",
       "      <td>7</td>\n",
       "      <td>!  (-.-)  !</td>\n",
       "      <td>1462931</td>\n",
       "      <td>30</td>\n",
       "      <td>14</td>\n",
       "      <td>6cb87e2f</td>\n",
       "      <td>e-flipping someone off.</td>\n",
       "      <td>44</td>\n",
       "      <td>0.681818</td>\n",
       "    </tr>\n",
       "    <tr>\n",
       "      <td>8</td>\n",
       "      <td>)</td>\n",
       "      <td>2740340</td>\n",
       "      <td>59</td>\n",
       "      <td>26</td>\n",
       "      <td>a846df0c</td>\n",
       "      <td>a sideways wink you type when you flirt</td>\n",
       "      <td>85</td>\n",
       "      <td>0.694118</td>\n",
       "    </tr>\n",
       "    <tr>\n",
       "      <td>...</td>\n",
       "      <td>...</td>\n",
       "      <td>...</td>\n",
       "      <td>...</td>\n",
       "      <td>...</td>\n",
       "      <td>...</td>\n",
       "      <td>...</td>\n",
       "      <td>...</td>\n",
       "      <td>...</td>\n",
       "    </tr>\n",
       "    <tr>\n",
       "      <td>928179</td>\n",
       "      <td>~whore</td>\n",
       "      <td>1925472</td>\n",
       "      <td>8</td>\n",
       "      <td>0</td>\n",
       "      <td>b9ae653c</td>\n",
       "      <td>The tildle or ~ represents a word that can be ...</td>\n",
       "      <td>8</td>\n",
       "      <td>1.000000</td>\n",
       "    </tr>\n",
       "    <tr>\n",
       "      <td>928180</td>\n",
       "      <td>~{ (o_o) }~</td>\n",
       "      <td>3681553</td>\n",
       "      <td>11</td>\n",
       "      <td>1</td>\n",
       "      <td>48b6b23b</td>\n",
       "      <td>Awkward turtle. this is a mascot to when somet...</td>\n",
       "      <td>12</td>\n",
       "      <td>0.916667</td>\n",
       "    </tr>\n",
       "    <tr>\n",
       "      <td>928181</td>\n",
       "      <td>~~</td>\n",
       "      <td>1016796</td>\n",
       "      <td>26</td>\n",
       "      <td>16</td>\n",
       "      <td>95a957f4</td>\n",
       "      <td>Cynical, rolling of the eyes. Expressed often ...</td>\n",
       "      <td>42</td>\n",
       "      <td>0.619048</td>\n",
       "    </tr>\n",
       "    <tr>\n",
       "      <td>928182</td>\n",
       "      <td>~~~lol~~~</td>\n",
       "      <td>5801339</td>\n",
       "      <td>10</td>\n",
       "      <td>5</td>\n",
       "      <td>21ef316</td>\n",
       "      <td>~~~lol~~~ it looks like a man drowning :L ;; I...</td>\n",
       "      <td>15</td>\n",
       "      <td>0.666667</td>\n",
       "    </tr>\n",
       "    <tr>\n",
       "      <td>928183</td>\n",
       "      <td>~~~~~~~&lt;</td>\n",
       "      <td>1927031</td>\n",
       "      <td>45</td>\n",
       "      <td>10</td>\n",
       "      <td>f7008714</td>\n",
       "      <td>A way to display snakes online, especially in ...</td>\n",
       "      <td>55</td>\n",
       "      <td>0.818182</td>\n",
       "    </tr>\n",
       "  </tbody>\n",
       "</table>\n",
       "<p>928180 rows × 8 columns</p>\n",
       "</div>"
      ],
      "text/plain": [
       "                     word  word_id  up_votes  down_votes    author  \\\n",
       "4                     )))  6054218         7           4  8a544a6c   \n",
       "5          l @(^.^)@ l     2420836         8          40  ef17dafc   \n",
       "6                     !    1740131        12          13  82003752   \n",
       "7           !  (-.-)  !    1462931        30          14  6cb87e2f   \n",
       "8                       )  2740340        59          26  a846df0c   \n",
       "...                   ...      ...       ...         ...       ...   \n",
       "928179             ~whore  1925472         8           0  b9ae653c   \n",
       "928180       ~{ (o_o) }~   3681553        11           1  48b6b23b   \n",
       "928181                 ~~  1016796        26          16  95a957f4   \n",
       "928182          ~~~lol~~~  5801339        10           5   21ef316   \n",
       "928183           ~~~~~~~<  1927031        45          10  f7008714   \n",
       "\n",
       "                                               definition  total_votes  \\\n",
       "4       uber wink. like a wink, but to the third power...           11   \n",
       "5       rockin to something, listening to a really awe...           48   \n",
       "6          Flip you off or inother words fuck off bitches           25   \n",
       "7                                 e-flipping someone off.           44   \n",
       "8                 a sideways wink you type when you flirt           85   \n",
       "...                                                   ...          ...   \n",
       "928179  The tildle or ~ represents a word that can be ...            8   \n",
       "928180  Awkward turtle. this is a mascot to when somet...           12   \n",
       "928181  Cynical, rolling of the eyes. Expressed often ...           42   \n",
       "928182  ~~~lol~~~ it looks like a man drowning :L ;; I...           15   \n",
       "928183  A way to display snakes online, especially in ...           55   \n",
       "\n",
       "        up_ratio  \n",
       "4       0.636364  \n",
       "5       0.166667  \n",
       "6       0.480000  \n",
       "7       0.681818  \n",
       "8       0.694118  \n",
       "...          ...  \n",
       "928179  1.000000  \n",
       "928180  0.916667  \n",
       "928181  0.619048  \n",
       "928182  0.666667  \n",
       "928183  0.818182  \n",
       "\n",
       "[928180 rows x 8 columns]"
      ]
     },
     "execution_count": 183,
     "metadata": {},
     "output_type": "execute_result"
    }
   ],
   "source": [
    "# setting the min upvote threshold and getting the post with highest upvote ratio\n",
    "fdf = df[df.up_votes > 5].sort_values('up_ratio').groupby('word').last().reset_index()\n",
    "# Removing whitespace words\n",
    "fdf[fdf.word.str.strip() != '']"
   ]
  },
  {
   "cell_type": "code",
   "execution_count": 188,
   "metadata": {},
   "outputs": [
    {
     "name": "stdout",
     "output_type": "stream",
     "text": [
      "True\n"
     ]
    }
   ],
   "source": [
    "# let's make sure we actually have one definition per word\n",
    "print(len(fdf) == len(fdf.word.unique()))"
   ]
  },
  {
   "cell_type": "markdown",
   "metadata": {},
   "source": [
    "## Actually making the model now"
   ]
  },
  {
   "cell_type": "code",
   "execution_count": null,
   "metadata": {},
   "outputs": [],
   "source": []
  }
 ],
 "metadata": {
  "kernelspec": {
   "display_name": "Python 3",
   "language": "python",
   "name": "python3"
  },
  "language_info": {
   "codemirror_mode": {
    "name": "ipython",
    "version": 3
   },
   "file_extension": ".py",
   "mimetype": "text/x-python",
   "name": "python",
   "nbconvert_exporter": "python",
   "pygments_lexer": "ipython3",
   "version": "3.7.3"
  }
 },
 "nbformat": 4,
 "nbformat_minor": 4
}
