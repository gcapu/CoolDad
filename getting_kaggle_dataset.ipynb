{
 "cells": [
  {
   "cell_type": "code",
   "execution_count": 4,
   "metadata": {},
   "outputs": [],
   "source": [
    "# 1. Download dependencies \n",
    "# (I'm rusty on dependency management with python atm so I'm just downloading packages individually)\n",
    "# `pip install kaggle`\n",
    "\n",
    "# 2. Get your auth credentials \n",
    "# You can get them going to your user icon --> My Account --> and then scroll down to the API section -->\n",
    "# click \"Create New API token\". This will download your token.\n",
    "\n",
    "# 3. Put your auth credentials in the proper directory:\n",
    "# mkdir ~/.kaggle && mv ~/Downloads/kaggle.json ~/.kaggle/.\n",
    "\n",
    "# 4. You should now be able to run the following script which downloads the dataset and reads it into \n",
    "# a pandas dataframe."
   ]
  },
  {
   "cell_type": "code",
   "execution_count": 2,
   "metadata": {},
   "outputs": [],
   "source": [
    "import kaggle as kg\n",
    "import pandas as pd\n",
    "import csv"
   ]
  },
  {
   "cell_type": "code",
   "execution_count": 5,
   "metadata": {},
   "outputs": [],
   "source": [
    "kg.api.authenticate()\n",
    "kg.api.dataset_download_files(dataset=\"therohk/urban-dictionary-words-dataset\", path='urban_dict.zip', unzip=True)"
   ]
  },
  {
   "cell_type": "code",
   "execution_count": 3,
   "metadata": {},
   "outputs": [],
   "source": [
    "# Some rows contain commas in the word name and they are not quoted, so we need to process them carefully\n",
    "with open('urban_dict.zip/urbandict-word-defs.csv', 'r') as csvfile:\n",
    "    lines = csvfile.readlines()\n",
    "    lines = list(csv.reader(lines, delimiter=',', quotechar='\"'))\n",
    "    for i, line in enumerate(lines):\n",
    "        if len(line) > 6:\n",
    "            lines[i] = [line[0]] +  [','.join(line[1:-4])] + line[-4:]"
   ]
  },
  {
   "cell_type": "code",
   "execution_count": null,
   "metadata": {},
   "outputs": [],
   "source": []
  }
 ],
 "metadata": {
  "kernelspec": {
   "display_name": "Python 3",
   "language": "python",
   "name": "python3"
  },
  "language_info": {
   "codemirror_mode": {
    "name": "ipython",
    "version": 3
   },
   "file_extension": ".py",
   "mimetype": "text/x-python",
   "name": "python",
   "nbconvert_exporter": "python",
   "pygments_lexer": "ipython3",
   "version": "3.7.3"
  }
 },
 "nbformat": 4,
 "nbformat_minor": 4
}
